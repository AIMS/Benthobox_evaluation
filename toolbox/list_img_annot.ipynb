{
 "cells": [
  {
   "cell_type": "code",
   "execution_count": 170,
   "metadata": {},
   "outputs": [],
   "source": [
    "import sys, os\n",
    "import pandas as pd\n",
    "from glob import glob\n",
    "\n",
    "\n",
    "PATH=\"/Volumes/TOSHIBA EXT/DL_training\"\n",
    "EXT = \"Site*.csv\"\n",
    "\n",
    "sfiles=[file \n",
    "        for path, subdir, files in os.walk(PATH) \n",
    "        for file in glob(os.path.join(path, EXT))]\n",
    "\n",
    "EXT = \"*CNET*.csv\"\n",
    "\n",
    "afiles=[file \n",
    "        for path, subdir, files in os.walk(PATH) \n",
    "        for file in glob(os.path.join(path, EXT))]\n",
    "\n",
    "EXT = \"*.JPG\"\n",
    "\n",
    "pfiles=[file \n",
    "        for path, subdir, files in os.walk(PATH) \n",
    "        for file in glob(os.path.join(path, EXT))]\n",
    "\n",
    "EXT = \"*COVER*.csv\"\n",
    "\n",
    "cfiles=[file \n",
    "        for path, subdir, files in os.walk(PATH) \n",
    "        for file in glob(os.path.join(path, EXT))]\n"
   ]
  },
  {
   "cell_type": "code",
   "execution_count": 171,
   "metadata": {},
   "outputs": [],
   "source": [
    "afiles.extend(cfiles)\n",
    "ann=pd.concat([pd.read_csv( file) for file in afiles], sort=True)\n",
    "sites=pd.concat([pd.read_csv( file) for file in sfiles], sort=True)\n",
    "\n"
   ]
  },
  {
   "cell_type": "code",
   "execution_count": 169,
   "metadata": {},
   "outputs": [],
   "source": [
    "ls=ann[['TIER_1','CATEGORY_NAME','TIER_2','SUBCATEGORY_NAME','TIER_3','GENERA_NAME']]\n",
    "ls=ls.drop_duplicates()\n",
    "ls.to_csv(\"/Volumes/TOSHIBA EXT/DL_training/NOAA/labelset.csv\")\n",
    "\n"
   ]
  },
  {
   "cell_type": "code",
   "execution_count": 130,
   "metadata": {},
   "outputs": [],
   "source": []
  },
  {
   "cell_type": "code",
   "execution_count": 172,
   "metadata": {},
   "outputs": [
    {
     "data": {
      "text/plain": [
       "137"
      ]
     },
     "execution_count": 172,
     "metadata": {},
     "output_type": "execute_result"
    }
   ],
   "source": [
    "len(ls)"
   ]
  }
 ],
 "metadata": {
  "kernelspec": {
   "display_name": "Python 3",
   "language": "python",
   "name": "python3"
  },
  "language_info": {
   "codemirror_mode": {
    "name": "ipython",
    "version": 3
   },
   "file_extension": ".py",
   "mimetype": "text/x-python",
   "name": "python",
   "nbconvert_exporter": "python",
   "pygments_lexer": "ipython3",
   "version": "3.6.5"
  }
 },
 "nbformat": 4,
 "nbformat_minor": 2
}
