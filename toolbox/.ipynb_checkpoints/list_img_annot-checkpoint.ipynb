{
 "cells": [
  {
   "cell_type": "code",
   "execution_count": 93,
   "metadata": {},
   "outputs": [],
   "source": [
    "import sys, os\n",
    "import pandas as pd\n",
    "from glob import glob\n",
    "\n",
    "\n",
    "PATH=\"/Volumes/TOSHIBA EXT/DL_training\"\n",
    "EXT = \"Site*.csv\"\n",
    "\n",
    "sfiles=[file \n",
    "        for path, subdir, files in os.walk(PATH) \n",
    "        for file in glob(os.path.join(path, EXT))]\n",
    "\n",
    "EXT = \"*CNET*.csv\"\n",
    "\n",
    "afiles=[file \n",
    "        for path, subdir, files in os.walk(PATH) \n",
    "        for file in glob(os.path.join(path, EXT))]\n",
    "\n",
    "EXT = \"*.JPG\"\n",
    "\n",
    "pfiles=[file \n",
    "        for path, subdir, files in os.walk(PATH) \n",
    "        for file in glob(os.path.join(path, EXT))]\n"
   ]
  },
  {
   "cell_type": "code",
   "execution_count": 94,
   "metadata": {},
   "outputs": [
    {
     "data": {
      "text/plain": [
       "['/Volumes/TOSHIBA EXT/DL_training/NOAA/Mariana_Archipelago/climate_stations_2017/1.1/data/0-data/MV_BIA_CNET_ANALYSIS_DATA_CLIMATE_Marianas_2017.csv']"
      ]
     },
     "execution_count": 94,
     "metadata": {},
     "output_type": "execute_result"
    }
   ],
   "source": [
    "# len(pfiles)\n",
    "ann=pd.concat([pd.read_csv( file) for file in afiles])"
   ]
  },
  {
   "cell_type": "code",
   "execution_count": 70,
   "metadata": {},
   "outputs": [
    {
     "data": {
      "text/plain": [
       "['/Users/uqmgonz1/Dropbox/projects/deep_learning/NOAA_NCRMP/']"
      ]
     },
     "execution_count": 70,
     "metadata": {},
     "output_type": "execute_result"
    }
   ],
   "source": [
    "# glob.glob(dirname=mypath, recursive= True,pattern='*.csv')\n",
    "\n",
    "glob.glob(mypath)\n"
   ]
  },
  {
   "cell_type": "code",
   "execution_count": null,
   "metadata": {},
   "outputs": [],
   "source": []
  },
  {
   "cell_type": "code",
   "execution_count": 25,
   "metadata": {},
   "outputs": [
    {
     "data": {
      "text/plain": [
       "'/Users/uqmgonz1/Dropbox/projects/deep_learning/NOAA_NCRMP/'"
      ]
     },
     "execution_count": 25,
     "metadata": {},
     "output_type": "execute_result"
    }
   ],
   "source": [
    "os.listdir"
   ]
  }
 ],
 "metadata": {
  "kernelspec": {
   "display_name": "Python 3",
   "language": "python",
   "name": "python3"
  },
  "language_info": {
   "codemirror_mode": {
    "name": "ipython",
    "version": 3
   },
   "file_extension": ".py",
   "mimetype": "text/x-python",
   "name": "python",
   "nbconvert_exporter": "python",
   "pygments_lexer": "ipython3",
   "version": "3.6.5"
  }
 },
 "nbformat": 4,
 "nbformat_minor": 2
}
